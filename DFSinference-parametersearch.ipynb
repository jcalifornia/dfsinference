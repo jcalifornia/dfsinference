{
 "metadata": {
  "name": ""
 },
 "nbformat": 3,
 "nbformat_minor": 0,
 "worksheets": [
  {
   "cells": [
    {
     "cell_type": "heading",
     "level": 1,
     "metadata": {},
     "source": [
      "Simultaneous inference of force and diffusivity -- Example 1"
     ]
    },
    {
     "cell_type": "markdown",
     "metadata": {},
     "source": [
      "First we will load the scientific and plotting libraries that we require."
     ]
    },
    {
     "cell_type": "code",
     "collapsed": false,
     "input": [
      "%pylab inline\n",
      "#from numba import *\n",
      "import numpy as np\n",
      "import scipy.optimize\n",
      "\n",
      "from ProgressBar import *\n",
      "font = {#'family' : 'normal',\n",
      "        #'weight' : 'bold',\n",
      "        'size'   : 16}\n",
      "matplotlib.rc('font', **font)\n",
      "from hyperopt import fmin, tpe, hp\n"
     ],
     "language": "python",
     "metadata": {},
     "outputs": [
      {
       "output_type": "stream",
       "stream": "stdout",
       "text": [
        "Populating the interactive namespace from numpy and matplotlib\n"
       ]
      }
     ],
     "prompt_number": 1
    },
    {
     "cell_type": "markdown",
     "metadata": {},
     "source": [
      "In this example we will recover the non-singular portion of a potential function \n",
      "$$U(x)=-\\frac{4x^2}{5}\\exp\\left(-\\frac{(x-2)^2}{16}\\right)+\\frac{x^2}{5}\\exp\\left(-\\frac{(x-5)^2}{14}\\right) - \\frac{x^{3/2}}{5}\\exp\\left(-\\frac{(x-10)^2}{12}\\right) $$\n",
      "which is associated with the bond force \n",
      "$$F(x) = -\\nabla U(x) = \\frac{3\\sqrt{x}}{10}\\exp\\left(-\\frac{(x-10)^2}{12}\\right) - \\frac{x^2(5-x)}{35}\\exp\\left(-\\frac{(x-5)^2}{14}\\right) + \\frac{x^2(2-x)}{10}\\exp\\left(-\\frac{(x-2)^2}{16}\\right) + \\frac{8x}{5} \\exp\\left(-\\frac{(x-2)^2}{16}\\right) - \\frac{2x}{5}\\exp\\left(-\\frac{(x-5)^2}{14}\\right) + \\frac{x^{1.5}(10-x)}{30}\\exp\\left(-\\frac{(x-10)^2}{12}\\right)$$\n",
      "from DFS experiments with varying diffusivity\n",
      "$$ D(x) =  1-\\frac{x^2}{400}\\exp\\left(-\\frac{(x-10)^2}{8}\\right). $$\n",
      "We assume that the singular portion of the bond potential follows\n",
      "$$ \\mu(x) = \\left(\\frac{x}{2}\\right)^{-6}. $$\n",
      "We first define these functions in order to compare our answer to the ground truth"
     ]
    },
    {
     "cell_type": "code",
     "collapsed": false,
     "input": [
      "def U(x): return -.8*x**2*exp(-(x-2)**2/16)+0.2*x**2*exp(-(x-5)**2/14) - 0.2*x**1.5*exp(-(x-10)**2/12)\n",
      "def Uprime(t): \n",
      "    return -0.3*power(t,0.5)*exp(-power((t - 10),2)/12.0) + 0.2*power(t,2)*(-t/7.0 + 5.0/7)*exp(-power((t - 5),2)/14) - 0.8*power(t,2)*(-t/8 + 1/4.0)*exp(-power(t - 2,2)/16) - 1.6*t*exp(-power(t - 2,2)/16) + 0.4*t*exp(-power(t - 5,2)/14.0) - 0.2*power(t,1.5)*(-t/6 + 5.0/3.0)*exp(-power(t - 10,2)/12)\n",
      "def Phi(x): return U(x) + (x/2)**-6\n",
      "def mu(x): return 3*(x/2)**-7\n",
      "def F(x): return 10.*np.sin(x**2/5.)*(np.exp(-x**2/45.))\n",
      "def D(x):  return 1-x*x/400 *exp(-((x-10)**2)/8)\n",
      "def Dprime(x): return -x**2*(-x/4 + 5/2)*exp(-(x - 10)**2/8)/400 - x*exp(-(x - 10)**2/8)/200"
     ],
     "language": "python",
     "metadata": {},
     "outputs": [],
     "prompt_number": 2
    },
    {
     "cell_type": "markdown",
     "metadata": {},
     "source": [
      "The pulling experiments that we will use have particular configuration parameters. Here we define them as well as define our DFS fitting object"
     ]
    },
    {
     "cell_type": "code",
     "collapsed": false,
     "input": [
      "K = 0.15\n",
      "V = 20\n",
      "x0 = 4\n",
      "bins = 200\n",
      "D0 = 1.0\n",
      "upperbound = 24\n",
      "from DFSfitter19 import *\n",
      "dfs = DFSfitter(K,V,bins,D0,x0,'approx',upperbound)"
     ],
     "language": "python",
     "metadata": {},
     "outputs": [],
     "prompt_number": 3
    },
    {
     "cell_type": "markdown",
     "metadata": {},
     "source": [
      "Here we load the data. This step takes a while because this is where the major processing occurs. Inference will be rather quick after this step."
     ]
    },
    {
     "cell_type": "code",
     "collapsed": false,
     "input": [
      "dfs.readmatfile(\"./data/Data_Sep13_2014.mat\")\n",
      "dfs.processtrajectories()\n",
      "dfs.guessD0(0.002)"
     ],
     "language": "python",
     "metadata": {},
     "outputs": [
      {
       "output_type": "stream",
       "stream": "stdout",
       "text": [
        "\r",
        "[                  0%                  ]"
       ]
      },
      {
       "output_type": "stream",
       "stream": "stdout",
       "text": [
        " \r",
        "[                  1%                  ]  2 of 200 complete"
       ]
      },
      {
       "output_type": "stream",
       "stream": "stdout",
       "text": [
        " \r",
        "[*                 2%                  ]  3 of 200 complete"
       ]
      },
      {
       "output_type": "stream",
       "stream": "stdout",
       "text": [
        " \r",
        "[*                 2%                  ]  4 of 200 complete"
       ]
      },
      {
       "output_type": "stream",
       "stream": "stdout",
       "text": [
        " \r",
        "[*                 3%                  ]  5 of 200 complete"
       ]
      },
      {
       "output_type": "stream",
       "stream": "stdout",
       "text": [
        " \r",
        "[*                 3%                  ]  6 of 200 complete"
       ]
      },
      {
       "output_type": "stream",
       "stream": "stdout",
       "text": [
        " \r",
        "[**                4%                  ]  7 of 200 complete"
       ]
      },
      {
       "output_type": "stream",
       "stream": "stdout",
       "text": [
        " \r",
        "[**                4%                  ]  8 of 200 complete"
       ]
      },
      {
       "output_type": "stream",
       "stream": "stdout",
       "text": [
        " \r",
        "[**                5%                  ]  9 of 200 complete"
       ]
      },
      {
       "output_type": "stream",
       "stream": "stdout",
       "text": [
        " \r",
        "[**                5%                  ]  10 of 200 complete"
       ]
      },
      {
       "output_type": "stream",
       "stream": "stdout",
       "text": [
        " \r",
        "[**                6%                  ]  11 of 200 complete"
       ]
      },
      {
       "output_type": "stream",
       "stream": "stdout",
       "text": [
        " \r",
        "[**                6%                  ]  12 of 200 complete"
       ]
      },
      {
       "output_type": "stream",
       "stream": "stdout",
       "text": [
        " \r",
        "[***               7%                  ]  13 of 200 complete"
       ]
      },
      {
       "output_type": "stream",
       "stream": "stdout",
       "text": [
        " \r",
        "[***               7%                  ]  14 of 200 complete"
       ]
      },
      {
       "output_type": "stream",
       "stream": "stdout",
       "text": [
        " \r",
        "[***               8%                  ]  15 of 200 complete"
       ]
      },
      {
       "output_type": "stream",
       "stream": "stdout",
       "text": [
        " \r",
        "[***               8%                  ]  16 of 200 complete"
       ]
      },
      {
       "output_type": "stream",
       "stream": "stdout",
       "text": [
        " \r",
        "[***               9%                  ]  17 of 200 complete"
       ]
      },
      {
       "output_type": "stream",
       "stream": "stdout",
       "text": [
        " \r",
        "[***               9%                  ]  18 of 200 complete"
       ]
      },
      {
       "output_type": "stream",
       "stream": "stdout",
       "text": [
        " \r",
        "[****             10%                  ]  19 of 200 complete"
       ]
      },
      {
       "output_type": "stream",
       "stream": "stdout",
       "text": [
        " \r",
        "[****             10%                  ]  20 of 200 complete"
       ]
      },
      {
       "output_type": "stream",
       "stream": "stdout",
       "text": [
        " \r",
        "[****             11%                  ]  21 of 200 complete"
       ]
      },
      {
       "output_type": "stream",
       "stream": "stdout",
       "text": [
        " \r",
        "[****             11%                  ]  22 of 200 complete"
       ]
      },
      {
       "output_type": "stream",
       "stream": "stdout",
       "text": [
        " \r",
        "[*****            12%                  ]  23 of 200 complete"
       ]
      },
      {
       "output_type": "stream",
       "stream": "stdout",
       "text": [
        " \r",
        "[*****            12%                  ]  24 of 200 complete"
       ]
      },
      {
       "output_type": "stream",
       "stream": "stdout",
       "text": [
        " \r",
        "[*****            13%                  ]  25 of 200 complete"
       ]
      },
      {
       "output_type": "stream",
       "stream": "stdout",
       "text": [
        " \r",
        "[*****            13%                  ]  26 of 200 complete"
       ]
      },
      {
       "output_type": "stream",
       "stream": "stdout",
       "text": [
        " \r",
        "[*****            14%                  ]  27 of 200 complete"
       ]
      },
      {
       "output_type": "stream",
       "stream": "stdout",
       "text": [
        " \r",
        "[*****            14%                  ]  28 of 200 complete"
       ]
      },
      {
       "output_type": "stream",
       "stream": "stdout",
       "text": [
        " \r",
        "[*****            14%                  ]  29 of 200 complete"
       ]
      },
      {
       "output_type": "stream",
       "stream": "stdout",
       "text": [
        " \r",
        "[******           15%                  ]  30 of 200 complete"
       ]
      },
      {
       "output_type": "stream",
       "stream": "stdout",
       "text": [
        " \r",
        "[******           16%                  ]  31 of 200 complete"
       ]
      },
      {
       "output_type": "stream",
       "stream": "stdout",
       "text": [
        " \r",
        "[******           16%                  ]  32 of 200 complete"
       ]
      },
      {
       "output_type": "stream",
       "stream": "stdout",
       "text": [
        " \r",
        "[******           17%                  ]  33 of 200 complete"
       ]
      },
      {
       "output_type": "stream",
       "stream": "stdout",
       "text": [
        " \r",
        "[******           17%                  ]  34 of 200 complete"
       ]
      },
      {
       "output_type": "stream",
       "stream": "stdout",
       "text": [
        " \r",
        "[*******          18%                  ]  35 of 200 complete"
       ]
      },
      {
       "output_type": "stream",
       "stream": "stdout",
       "text": [
        " \r",
        "[*******          18%                  ]  36 of 200 complete"
       ]
      },
      {
       "output_type": "stream",
       "stream": "stdout",
       "text": [
        " \r",
        "[*******          19%                  ]  37 of 200 complete"
       ]
      },
      {
       "output_type": "stream",
       "stream": "stdout",
       "text": [
        " \r",
        "[*******          19%                  ]  38 of 200 complete"
       ]
      },
      {
       "output_type": "stream",
       "stream": "stdout",
       "text": [
        " \r",
        "[********         20%                  ]  39 of 200 complete"
       ]
      },
      {
       "output_type": "stream",
       "stream": "stdout",
       "text": [
        " \r",
        "[********         20%                  ]  40 of 200 complete"
       ]
      },
      {
       "output_type": "stream",
       "stream": "stdout",
       "text": [
        " \r",
        "[********         21%                  ]  41 of 200 complete"
       ]
      },
      {
       "output_type": "stream",
       "stream": "stdout",
       "text": [
        " \r",
        "[********         21%                  ]  42 of 200 complete"
       ]
      },
      {
       "output_type": "stream",
       "stream": "stdout",
       "text": [
        " \r",
        "[********         22%                  ]  43 of 200 complete"
       ]
      },
      {
       "output_type": "stream",
       "stream": "stdout",
       "text": [
        " \r",
        "[********         22%                  ]  44 of 200 complete"
       ]
      },
      {
       "output_type": "stream",
       "stream": "stdout",
       "text": [
        " \r",
        "[*********        23%                  ]  45 of 200 complete"
       ]
      },
      {
       "output_type": "stream",
       "stream": "stdout",
       "text": [
        " \r",
        "[*********        23%                  ]  46 of 200 complete"
       ]
      },
      {
       "output_type": "stream",
       "stream": "stdout",
       "text": [
        " \r",
        "[*********        24%                  ]  47 of 200 complete"
       ]
      },
      {
       "output_type": "stream",
       "stream": "stdout",
       "text": [
        " \r",
        "[*********        24%                  ]  48 of 200 complete"
       ]
      },
      {
       "output_type": "stream",
       "stream": "stdout",
       "text": [
        " \r",
        "[**********       25%                  ]  49 of 200 complete"
       ]
      },
      {
       "output_type": "stream",
       "stream": "stdout",
       "text": [
        " \r",
        "[**********       25%                  ]  50 of 200 complete"
       ]
      },
      {
       "output_type": "stream",
       "stream": "stdout",
       "text": [
        " \r",
        "[**********       26%                  ]  51 of 200 complete"
       ]
      },
      {
       "output_type": "stream",
       "stream": "stdout",
       "text": [
        " \r",
        "[**********       26%                  ]  52 of 200 complete"
       ]
      },
      {
       "output_type": "stream",
       "stream": "stdout",
       "text": [
        " \r",
        "[**********       27%                  ]  53 of 200 complete"
       ]
      },
      {
       "output_type": "stream",
       "stream": "stdout",
       "text": [
        " \r",
        "[**********       27%                  ]  54 of 200 complete"
       ]
      },
      {
       "output_type": "stream",
       "stream": "stdout",
       "text": [
        " \r",
        "[***********      28%                  ]  55 of 200 complete"
       ]
      },
      {
       "output_type": "stream",
       "stream": "stdout",
       "text": [
        " \r",
        "[***********      28%                  ]  56 of 200 complete"
       ]
      },
      {
       "output_type": "stream",
       "stream": "stdout",
       "text": [
        " \r",
        "[***********      28%                  ]  57 of 200 complete"
       ]
      },
      {
       "output_type": "stream",
       "stream": "stdout",
       "text": [
        " \r",
        "[***********      29%                  ]  58 of 200 complete"
       ]
      },
      {
       "output_type": "stream",
       "stream": "stdout",
       "text": [
        " \r",
        "[***********      30%                  ]  59 of 200 complete"
       ]
      },
      {
       "output_type": "stream",
       "stream": "stdout",
       "text": [
        " \r",
        "[***********      30%                  ]  60 of 200 complete"
       ]
      },
      {
       "output_type": "stream",
       "stream": "stdout",
       "text": [
        " \r",
        "[************     31%                  ]  61 of 200 complete"
       ]
      },
      {
       "output_type": "stream",
       "stream": "stdout",
       "text": [
        " \r",
        "[************     31%                  ]  62 of 200 complete"
       ]
      },
      {
       "output_type": "stream",
       "stream": "stdout",
       "text": [
        " \r",
        "[************     32%                  ]  63 of 200 complete"
       ]
      },
      {
       "output_type": "stream",
       "stream": "stdout",
       "text": [
        " \r",
        "[************     32%                  ]  64 of 200 complete"
       ]
      },
      {
       "output_type": "stream",
       "stream": "stdout",
       "text": [
        " \r",
        "[*************    33%                  ]  65 of 200 complete"
       ]
      },
      {
       "output_type": "stream",
       "stream": "stdout",
       "text": [
        " \r",
        "[*************    33%                  ]  66 of 200 complete"
       ]
      },
      {
       "output_type": "stream",
       "stream": "stdout",
       "text": [
        " \r",
        "[*************    34%                  ]  67 of 200 complete"
       ]
      },
      {
       "output_type": "stream",
       "stream": "stdout",
       "text": [
        " \r",
        "[*************    34%                  ]  68 of 200 complete"
       ]
      },
      {
       "output_type": "stream",
       "stream": "stdout",
       "text": [
        " \r",
        "[*************    35%                  ]  69 of 200 complete"
       ]
      },
      {
       "output_type": "stream",
       "stream": "stdout",
       "text": [
        " \r",
        "[*************    35%                  ]  70 of 200 complete"
       ]
      },
      {
       "output_type": "stream",
       "stream": "stdout",
       "text": [
        " \r",
        "[**************   36%                  ]  71 of 200 complete"
       ]
      },
      {
       "output_type": "stream",
       "stream": "stdout",
       "text": [
        " \r",
        "[**************   36%                  ]  72 of 200 complete"
       ]
      },
      {
       "output_type": "stream",
       "stream": "stdout",
       "text": [
        " \r",
        "[**************   37%                  ]  73 of 200 complete"
       ]
      },
      {
       "output_type": "stream",
       "stream": "stdout",
       "text": [
        " \r",
        "[**************   37%                  ]  74 of 200 complete"
       ]
      },
      {
       "output_type": "stream",
       "stream": "stdout",
       "text": [
        " \r",
        "[**************   38%                  ]  75 of 200 complete"
       ]
      },
      {
       "output_type": "stream",
       "stream": "stdout",
       "text": [
        " \r",
        "[**************   38%                  ]  76 of 200 complete"
       ]
      },
      {
       "output_type": "stream",
       "stream": "stdout",
       "text": [
        " \r",
        "[***************  39%                  ]  77 of 200 complete"
       ]
      },
      {
       "output_type": "stream",
       "stream": "stdout",
       "text": [
        " \r",
        "[***************  39%                  ]  78 of 200 complete"
       ]
      },
      {
       "output_type": "stream",
       "stream": "stdout",
       "text": [
        " \r",
        "[***************  40%                  ]  79 of 200 complete"
       ]
      },
      {
       "output_type": "stream",
       "stream": "stdout",
       "text": [
        " \r",
        "[***************  40%                  ]  80 of 200 complete"
       ]
      },
      {
       "output_type": "stream",
       "stream": "stdout",
       "text": [
        " \r",
        "[**************** 41%                  ]  81 of 200 complete"
       ]
      },
      {
       "output_type": "stream",
       "stream": "stdout",
       "text": [
        " \r",
        "[**************** 41%                  ]  82 of 200 complete"
       ]
      },
      {
       "output_type": "stream",
       "stream": "stdout",
       "text": [
        " \r",
        "[**************** 42%                  ]  83 of 200 complete"
       ]
      },
      {
       "output_type": "stream",
       "stream": "stdout",
       "text": [
        " \r",
        "[**************** 42%                  ]  84 of 200 complete"
       ]
      },
      {
       "output_type": "stream",
       "stream": "stdout",
       "text": [
        " \r",
        "[**************** 43%                  ]  85 of 200 complete"
       ]
      },
      {
       "output_type": "stream",
       "stream": "stdout",
       "text": [
        " \r",
        "[**************** 43%                  ]  86 of 200 complete"
       ]
      },
      {
       "output_type": "stream",
       "stream": "stdout",
       "text": [
        " \r",
        "[*****************44%                  ]  87 of 200 complete"
       ]
      },
      {
       "output_type": "stream",
       "stream": "stdout",
       "text": [
        " \r",
        "[*****************44%                  ]  88 of 200 complete"
       ]
      },
      {
       "output_type": "stream",
       "stream": "stdout",
       "text": [
        " \r",
        "[*****************45%                  ]  89 of 200 complete"
       ]
      },
      {
       "output_type": "stream",
       "stream": "stdout",
       "text": [
        " \r",
        "[*****************45%                  ]  90 of 200 complete"
       ]
      },
      {
       "output_type": "stream",
       "stream": "stdout",
       "text": [
        " \r",
        "[*****************46%                  ]  91 of 200 complete"
       ]
      },
      {
       "output_type": "stream",
       "stream": "stdout",
       "text": [
        " \r",
        "[*****************46%                  ]  92 of 200 complete"
       ]
      },
      {
       "output_type": "stream",
       "stream": "stdout",
       "text": [
        " \r",
        "[*****************47%                  ]  93 of 200 complete"
       ]
      },
      {
       "output_type": "stream",
       "stream": "stdout",
       "text": [
        " \r",
        "[*****************47%                  ]  94 of 200 complete"
       ]
      },
      {
       "output_type": "stream",
       "stream": "stdout",
       "text": [
        " \r",
        "[*****************48%                  ]  95 of 200 complete"
       ]
      },
      {
       "output_type": "stream",
       "stream": "stdout",
       "text": [
        " \r",
        "[*****************48%                  ]  96 of 200 complete"
       ]
      },
      {
       "output_type": "stream",
       "stream": "stdout",
       "text": [
        " \r",
        "[*****************49%                  ]  97 of 200 complete"
       ]
      },
      {
       "output_type": "stream",
       "stream": "stdout",
       "text": [
        " \r",
        "[*****************49%                  ]  98 of 200 complete"
       ]
      },
      {
       "output_type": "stream",
       "stream": "stdout",
       "text": [
        " \r",
        "[*****************50%                  ]  99 of 200 complete"
       ]
      },
      {
       "output_type": "stream",
       "stream": "stdout",
       "text": [
        " \r",
        "[*****************50%                  ]  100 of 200 complete"
       ]
      },
      {
       "output_type": "stream",
       "stream": "stdout",
       "text": [
        " \r",
        "[*****************51%                  ]  101 of 200 complete"
       ]
      },
      {
       "output_type": "stream",
       "stream": "stdout",
       "text": [
        " \r",
        "[*****************51%                  ]  102 of 200 complete"
       ]
      },
      {
       "output_type": "stream",
       "stream": "stdout",
       "text": [
        " \r",
        "[*****************52%                  ]  103 of 200 complete"
       ]
      },
      {
       "output_type": "stream",
       "stream": "stdout",
       "text": [
        " \r",
        "[*****************52%                  ]  104 of 200 complete"
       ]
      },
      {
       "output_type": "stream",
       "stream": "stdout",
       "text": [
        " \r",
        "[*****************53%                  ]  105 of 200 complete"
       ]
      },
      {
       "output_type": "stream",
       "stream": "stdout",
       "text": [
        " \r",
        "[*****************53%                  ]  106 of 200 complete"
       ]
      },
      {
       "output_type": "stream",
       "stream": "stdout",
       "text": [
        " \r",
        "[*****************54%*                 ]  107 of 200 complete"
       ]
      },
      {
       "output_type": "stream",
       "stream": "stdout",
       "text": [
        " \r",
        "[*****************54%*                 ]  108 of 200 complete"
       ]
      },
      {
       "output_type": "stream",
       "stream": "stdout",
       "text": [
        " \r",
        "[*****************55%*                 ]  109 of 200 complete"
       ]
      },
      {
       "output_type": "stream",
       "stream": "stdout",
       "text": [
        " \r",
        "[*****************55%*                 ]  110 of 200 complete"
       ]
      },
      {
       "output_type": "stream",
       "stream": "stdout",
       "text": [
        " \r",
        "[*****************56%*                 ]  111 of 200 complete"
       ]
      },
      {
       "output_type": "stream",
       "stream": "stdout",
       "text": [
        " \r",
        "[*****************56%*                 ]  112 of 200 complete"
       ]
      },
      {
       "output_type": "stream",
       "stream": "stdout",
       "text": [
        " \r",
        "[*****************56%*                 ]  113 of 200 complete"
       ]
      },
      {
       "output_type": "stream",
       "stream": "stdout",
       "text": [
        " \r",
        "[*****************57%**                ]  114 of 200 complete"
       ]
      },
      {
       "output_type": "stream",
       "stream": "stdout",
       "text": [
        " \r",
        "[*****************57%**                ]  115 of 200 complete"
       ]
      },
      {
       "output_type": "stream",
       "stream": "stdout",
       "text": [
        " \r",
        "[*****************58%**                ]  116 of 200 complete"
       ]
      },
      {
       "output_type": "stream",
       "stream": "stdout",
       "text": [
        " \r",
        "[*****************59%**                ]  117 of 200 complete"
       ]
      },
      {
       "output_type": "stream",
       "stream": "stdout",
       "text": [
        " \r",
        "[*****************59%**                ]  118 of 200 complete"
       ]
      },
      {
       "output_type": "stream",
       "stream": "stdout",
       "text": [
        " \r",
        "[*****************60%***               ]  119 of 200 complete"
       ]
      },
      {
       "output_type": "stream",
       "stream": "stdout",
       "text": [
        " \r",
        "[*****************60%***               ]  120 of 200 complete"
       ]
      },
      {
       "output_type": "stream",
       "stream": "stdout",
       "text": [
        " \r",
        "[*****************61%***               ]  121 of 200 complete"
       ]
      },
      {
       "output_type": "stream",
       "stream": "stdout",
       "text": [
        " \r",
        "[*****************61%***               ]  122 of 200 complete"
       ]
      },
      {
       "output_type": "stream",
       "stream": "stdout",
       "text": [
        " \r",
        "[*****************62%****              ]  123 of 200 complete"
       ]
      },
      {
       "output_type": "stream",
       "stream": "stdout",
       "text": [
        " \r",
        "[*****************62%****              ]  124 of 200 complete"
       ]
      },
      {
       "output_type": "stream",
       "stream": "stdout",
       "text": [
        " \r",
        "[*****************63%****              ]  125 of 200 complete"
       ]
      },
      {
       "output_type": "stream",
       "stream": "stdout",
       "text": [
        " \r",
        "[*****************63%****              ]  126 of 200 complete"
       ]
      },
      {
       "output_type": "stream",
       "stream": "stdout",
       "text": [
        " \r",
        "[*****************64%****              ]  127 of 200 complete"
       ]
      },
      {
       "output_type": "stream",
       "stream": "stdout",
       "text": [
        " \r",
        "[*****************64%****              ]  128 of 200 complete"
       ]
      },
      {
       "output_type": "stream",
       "stream": "stdout",
       "text": [
        " \r",
        "[*****************65%*****             ]  129 of 200 complete"
       ]
      },
      {
       "output_type": "stream",
       "stream": "stdout",
       "text": [
        " \r",
        "[*****************65%*****             ]  130 of 200 complete"
       ]
      },
      {
       "output_type": "stream",
       "stream": "stdout",
       "text": [
        " \r",
        "[*****************66%*****             ]  131 of 200 complete"
       ]
      },
      {
       "output_type": "stream",
       "stream": "stdout",
       "text": [
        " \r",
        "[*****************66%*****             ]  132 of 200 complete"
       ]
      },
      {
       "output_type": "stream",
       "stream": "stdout",
       "text": [
        " \r",
        "[*****************67%*****             ]  133 of 200 complete"
       ]
      },
      {
       "output_type": "stream",
       "stream": "stdout",
       "text": [
        " \r",
        "[*****************67%*****             ]  134 of 200 complete"
       ]
      },
      {
       "output_type": "stream",
       "stream": "stdout",
       "text": [
        " \r",
        "[*****************68%******            ]  135 of 200 complete"
       ]
      },
      {
       "output_type": "stream",
       "stream": "stdout",
       "text": [
        " \r",
        "[*****************68%******            ]  136 of 200 complete"
       ]
      },
      {
       "output_type": "stream",
       "stream": "stdout",
       "text": [
        " \r",
        "[*****************69%******            ]  137 of 200 complete"
       ]
      },
      {
       "output_type": "stream",
       "stream": "stdout",
       "text": [
        " \r",
        "[*****************69%******            ]  138 of 200 complete"
       ]
      },
      {
       "output_type": "stream",
       "stream": "stdout",
       "text": [
        " \r",
        "[*****************70%*******           ]  139 of 200 complete"
       ]
      },
      {
       "output_type": "stream",
       "stream": "stdout",
       "text": [
        " \r",
        "[*****************70%*******           ]  140 of 200 complete"
       ]
      },
      {
       "output_type": "stream",
       "stream": "stdout",
       "text": [
        " \r",
        "[*****************71%*******           ]  141 of 200 complete"
       ]
      },
      {
       "output_type": "stream",
       "stream": "stdout",
       "text": [
        " \r",
        "[*****************71%*******           ]  142 of 200 complete"
       ]
      },
      {
       "output_type": "stream",
       "stream": "stdout",
       "text": [
        " \r",
        "[*****************72%*******           ]  143 of 200 complete"
       ]
      },
      {
       "output_type": "stream",
       "stream": "stdout",
       "text": [
        " \r",
        "[*****************72%*******           ]  144 of 200 complete"
       ]
      },
      {
       "output_type": "stream",
       "stream": "stdout",
       "text": [
        " \r",
        "[*****************73%********          ]  145 of 200 complete"
       ]
      },
      {
       "output_type": "stream",
       "stream": "stdout",
       "text": [
        " \r",
        "[*****************73%********          ]  146 of 200 complete"
       ]
      },
      {
       "output_type": "stream",
       "stream": "stdout",
       "text": [
        " \r",
        "[*****************74%********          ]  147 of 200 complete"
       ]
      },
      {
       "output_type": "stream",
       "stream": "stdout",
       "text": [
        " \r",
        "[*****************74%********          ]  148 of 200 complete"
       ]
      },
      {
       "output_type": "stream",
       "stream": "stdout",
       "text": [
        " \r",
        "[*****************75%*********         ]  149 of 200 complete"
       ]
      },
      {
       "output_type": "stream",
       "stream": "stdout",
       "text": [
        " \r",
        "[*****************75%*********         ]  150 of 200 complete"
       ]
      },
      {
       "output_type": "stream",
       "stream": "stdout",
       "text": [
        " \r",
        "[*****************76%*********         ]  151 of 200 complete"
       ]
      },
      {
       "output_type": "stream",
       "stream": "stdout",
       "text": [
        " \r",
        "[*****************76%*********         ]  152 of 200 complete"
       ]
      },
      {
       "output_type": "stream",
       "stream": "stdout",
       "text": [
        " \r",
        "[*****************77%*********         ]  153 of 200 complete"
       ]
      },
      {
       "output_type": "stream",
       "stream": "stdout",
       "text": [
        " \r",
        "[*****************77%*********         ]  154 of 200 complete"
       ]
      },
      {
       "output_type": "stream",
       "stream": "stdout",
       "text": [
        " \r",
        "[*****************78%**********        ]  155 of 200 complete"
       ]
      },
      {
       "output_type": "stream",
       "stream": "stdout",
       "text": [
        " \r",
        "[*****************78%**********        ]  156 of 200 complete"
       ]
      },
      {
       "output_type": "stream",
       "stream": "stdout",
       "text": [
        " \r",
        "[*****************79%**********        ]  157 of 200 complete"
       ]
      },
      {
       "output_type": "stream",
       "stream": "stdout",
       "text": [
        " \r",
        "[*****************79%**********        ]  158 of 200 complete"
       ]
      },
      {
       "output_type": "stream",
       "stream": "stdout",
       "text": [
        " \r",
        "[*****************80%**********        ]  159 of 200 complete"
       ]
      },
      {
       "output_type": "stream",
       "stream": "stdout",
       "text": [
        " \r",
        "[*****************80%**********        ]  160 of 200 complete"
       ]
      },
      {
       "output_type": "stream",
       "stream": "stdout",
       "text": [
        " \r",
        "[*****************81%***********       ]  161 of 200 complete"
       ]
      },
      {
       "output_type": "stream",
       "stream": "stdout",
       "text": [
        " \r",
        "[*****************81%***********       ]  162 of 200 complete"
       ]
      },
      {
       "output_type": "stream",
       "stream": "stdout",
       "text": [
        " \r",
        "[*****************82%***********       ]  163 of 200 complete"
       ]
      },
      {
       "output_type": "stream",
       "stream": "stdout",
       "text": [
        " \r",
        "[*****************82%***********       ]  164 of 200 complete"
       ]
      },
      {
       "output_type": "stream",
       "stream": "stdout",
       "text": [
        " \r",
        "[*****************83%************      ]  165 of 200 complete"
       ]
      },
      {
       "output_type": "stream",
       "stream": "stdout",
       "text": [
        " \r",
        "[*****************83%************      ]  166 of 200 complete"
       ]
      },
      {
       "output_type": "stream",
       "stream": "stdout",
       "text": [
        " \r",
        "[*****************84%************      ]  167 of 200 complete"
       ]
      },
      {
       "output_type": "stream",
       "stream": "stdout",
       "text": [
        " \r",
        "[*****************84%************      ]  168 of 200 complete"
       ]
      },
      {
       "output_type": "stream",
       "stream": "stdout",
       "text": [
        " \r",
        "[*****************85%************      ]  169 of 200 complete"
       ]
      },
      {
       "output_type": "stream",
       "stream": "stdout",
       "text": [
        " \r",
        "[*****************85%************      ]  170 of 200 complete"
       ]
      },
      {
       "output_type": "stream",
       "stream": "stdout",
       "text": [
        " \r",
        "[*****************86%*************     ]  171 of 200 complete"
       ]
      },
      {
       "output_type": "stream",
       "stream": "stdout",
       "text": [
        " \r",
        "[*****************86%*************     ]  172 of 200 complete"
       ]
      },
      {
       "output_type": "stream",
       "stream": "stdout",
       "text": [
        " \r",
        "[*****************87%*************     ]  173 of 200 complete"
       ]
      },
      {
       "output_type": "stream",
       "stream": "stdout",
       "text": [
        " \r",
        "[*****************87%*************     ]  174 of 200 complete"
       ]
      },
      {
       "output_type": "stream",
       "stream": "stdout",
       "text": [
        " \r",
        "[*****************88%*************     ]  175 of 200 complete"
       ]
      },
      {
       "output_type": "stream",
       "stream": "stdout",
       "text": [
        " \r",
        "[*****************88%*************     ]  176 of 200 complete"
       ]
      },
      {
       "output_type": "stream",
       "stream": "stdout",
       "text": [
        " \r",
        "[*****************89%**************    ]  177 of 200 complete"
       ]
      },
      {
       "output_type": "stream",
       "stream": "stdout",
       "text": [
        " \r",
        "[*****************89%**************    ]  178 of 200 complete"
       ]
      },
      {
       "output_type": "stream",
       "stream": "stdout",
       "text": [
        " \r",
        "[*****************90%**************    ]  179 of 200 complete"
       ]
      },
      {
       "output_type": "stream",
       "stream": "stdout",
       "text": [
        " \r",
        "[*****************90%**************    ]  180 of 200 complete"
       ]
      },
      {
       "output_type": "stream",
       "stream": "stdout",
       "text": [
        " \r",
        "[*****************91%***************   ]  181 of 200 complete"
       ]
      },
      {
       "output_type": "stream",
       "stream": "stdout",
       "text": [
        " \r",
        "[*****************91%***************   ]  182 of 200 complete"
       ]
      },
      {
       "output_type": "stream",
       "stream": "stdout",
       "text": [
        " \r",
        "[*****************92%***************   ]  183 of 200 complete"
       ]
      },
      {
       "output_type": "stream",
       "stream": "stdout",
       "text": [
        " \r",
        "[*****************92%***************   ]  184 of 200 complete"
       ]
      },
      {
       "output_type": "stream",
       "stream": "stdout",
       "text": [
        " \r",
        "[*****************93%***************   ]  185 of 200 complete"
       ]
      },
      {
       "output_type": "stream",
       "stream": "stdout",
       "text": [
        " \r",
        "[*****************93%***************   ]  186 of 200 complete"
       ]
      },
      {
       "output_type": "stream",
       "stream": "stdout",
       "text": [
        " \r",
        "[*****************94%****************  ]  187 of 200 complete"
       ]
      },
      {
       "output_type": "stream",
       "stream": "stdout",
       "text": [
        " \r",
        "[*****************94%****************  ]  188 of 200 complete"
       ]
      },
      {
       "output_type": "stream",
       "stream": "stdout",
       "text": [
        " \r",
        "[*****************95%****************  ]  189 of 200 complete"
       ]
      },
      {
       "output_type": "stream",
       "stream": "stdout",
       "text": [
        " \r",
        "[*****************95%****************  ]  190 of 200 complete"
       ]
      },
      {
       "output_type": "stream",
       "stream": "stdout",
       "text": [
        " \r",
        "[*****************96%****************  ]  191 of 200 complete"
       ]
      },
      {
       "output_type": "stream",
       "stream": "stdout",
       "text": [
        " \r",
        "[*****************96%****************  ]  192 of 200 complete"
       ]
      },
      {
       "output_type": "stream",
       "stream": "stdout",
       "text": [
        " \r",
        "[*****************97%***************** ]  193 of 200 complete"
       ]
      },
      {
       "output_type": "stream",
       "stream": "stdout",
       "text": [
        " \r",
        "[*****************97%***************** ]  194 of 200 complete"
       ]
      },
      {
       "output_type": "stream",
       "stream": "stdout",
       "text": [
        " \r",
        "[*****************98%***************** ]  195 of 200 complete"
       ]
      },
      {
       "output_type": "stream",
       "stream": "stdout",
       "text": [
        " \r",
        "[*****************98%***************** ]  196 of 200 complete"
       ]
      },
      {
       "output_type": "stream",
       "stream": "stdout",
       "text": [
        " \r",
        "[*****************99%******************]  197 of 200 complete"
       ]
      },
      {
       "output_type": "stream",
       "stream": "stdout",
       "text": [
        " \r",
        "[*****************99%******************]  198 of 200 complete"
       ]
      },
      {
       "output_type": "stream",
       "stream": "stdout",
       "text": [
        " \r",
        "[****************100%******************]  199 of 200 complete"
       ]
      },
      {
       "output_type": "stream",
       "stream": "stdout",
       "text": [
        " \r",
        "[****************100%******************]  200 of 200 complete"
       ]
      },
      {
       "output_type": "stream",
       "stream": "stdout",
       "text": [
        " 500000\n",
        "0.99952037216\n"
       ]
      }
     ],
     "prompt_number": 4
    },
    {
     "cell_type": "markdown",
     "metadata": {},
     "source": [
      "We solve the regularized problem here with the given parameters. For comparison, we also solve the discrete unregularized problem."
     ]
    },
    {
     "cell_type": "code",
     "collapsed": false,
     "input": [
      "regsolution = dfs.solveSemiclassically( {'betaf' : 25, 'gammaf': 0.8, 'betag': 1, 'gammag': 1} )\n",
      "# also unregularized\n",
      "IMf = np.eye(dfs.bins)*20\n",
      "IMg = np.eye(dfs.bins)*20\n",
      "IMgp = np.eye(dfs.bins)*20\n",
      "\n",
      "out1000=scipy.optimize.root(dfs.residual,np.zeros(bins*2),(IMf,IMg,IMgp),method=\"lm\")\n"
     ],
     "language": "python",
     "metadata": {},
     "outputs": [],
     "prompt_number": 5
    },
    {
     "cell_type": "code",
     "collapsed": false,
     "input": [
      "x = regsolution['x']\n",
      "plt.plot(x,out1000.x[:dfs.bins]+dfs.mu(dfs.midpoints),color=\"0.2\")\n",
      "#plt.plot(dfs.midpoints,D(dfs.midpoints))\n",
      "plt.plot(x,F(x)+dfs.mu(x),'r--',linewidth=3)\n",
      "plt.plot(x,solution['fstar']+dfs.mu(dfs.midpoints),color=\"b\",linewidth=3)\n",
      "\n",
      "plt.ylim(-8,6)\n",
      "plt.xlim(dfs.x0,20)\n",
      "#plt.savefig('Funreg1.eps',format='eps', bbox_inches='tight')\n",
      "#plt.savefig('Funreg1.pdf',format='pdf', bbox_inches='tight')"
     ],
     "language": "python",
     "metadata": {},
     "outputs": [
      {
       "metadata": {},
       "output_type": "pyout",
       "prompt_number": 32,
       "text": [
        "(4, 20)"
       ]
      },
      {
       "metadata": {},
       "output_type": "display_data",
       "png": "[encoded data removed]",
       "text": [
        "<matplotlib.figure.Figure at 0x4315890>"
       ]
      }
     ],
     "prompt_number": 32
    },
    {
     "cell_type": "code",
     "collapsed": false,
     "input": [
      "plt.plot(dfs.midpoints,exp(out1000.x[dfs.bins:]),color=\"0.2\")\n",
      "plt.plot(dfs.midpoints,D(dfs.midpoints),'r--',linewidth=3)\n",
      "plt.plot(solution['x'],solution['Dstar'],linewidth=3)\n",
      "plt.xlim(0,30)\n",
      "plt.ylim(0.2,1.1)\n",
      "plt.xlim(dfs.x0,dfs.upperbound)\n",
      "\n",
      "#plt.savefig('Dunreg1.eps',format='eps', bbox_inches='tight')\n",
      "#plt.savefig('Dunreg1.pdf',format='pdf', bbox_inches='tight')"
     ],
     "language": "python",
     "metadata": {},
     "outputs": [
      {
       "metadata": {},
       "output_type": "pyout",
       "prompt_number": 33,
       "text": [
        "(4, 24)"
       ]
      },
      {
       "metadata": {},
       "output_type": "display_data",
       "png": "[encoded data removed]",
       "text": [
        "<matplotlib.figure.Figure at 0x4375fd0>"
       ]
      }
     ],
     "prompt_number": 33
    },
    {
     "cell_type": "code",
     "collapsed": false,
     "input": [
      "space = {'betaf': hp.lognormal('betaf', 0, 4),\n",
      "         'betag': hp.lognormal('betag', 0, 4),\n",
      "         'gammaf': hp.uniform('gammaf',25*dfs.dy**2,dfs.x0**2),\n",
      "         'gammag': hp.uniform('gammag',25*dfs.dy**2,dfs.x0**2)}"
     ],
     "language": "python",
     "metadata": {},
     "outputs": [],
     "prompt_number": 9
    },
    {
     "cell_type": "code",
     "collapsed": false,
     "input": [
      "def objective2(params):\n",
      "    sol = dfs.solveSemiclassically(params,err=False)\n",
      "    if sol['marlike']>0: return sol['marlike']\n",
      "    else: return 1e20"
     ],
     "language": "python",
     "metadata": {},
     "outputs": [],
     "prompt_number": 10
    },
    {
     "cell_type": "code",
     "collapsed": false,
     "input": [
      "best = fmin(objective2,space,algo=tpe.suggest, max_evals=200)"
     ],
     "language": "python",
     "metadata": {},
     "outputs": [
      {
       "output_type": "stream",
       "stream": "stderr",
       "text": [
        "/usr/local/lib/python2.7/dist-packages/scipy/optimize/minpack.py:237: RuntimeWarning: The iteration is not making good progress, as measured by the \n",
        "  improvement from the last five Jacobian evaluations.\n",
        "  warnings.warn(msg, RuntimeWarning)\n",
        "/usr/local/lib/python2.7/dist-packages/scipy/optimize/minpack.py:237: RuntimeWarning: The iteration is not making good progress, as measured by the \n",
        "  improvement from the last ten iterations.\n",
        "  warnings.warn(msg, RuntimeWarning)\n"
       ]
      }
     ],
     "prompt_number": 11
    },
    {
     "cell_type": "code",
     "collapsed": false,
     "input": [
      "solution = dfs.solveSemiclassically(best,err=True)"
     ],
     "language": "python",
     "metadata": {},
     "outputs": [],
     "prompt_number": 12
    },
    {
     "cell_type": "code",
     "collapsed": false,
     "input": [
      "best"
     ],
     "language": "python",
     "metadata": {},
     "outputs": [
      {
       "metadata": {},
       "output_type": "pyout",
       "prompt_number": 21,
       "text": [
        "{'betaf': 19884.242283591768,\n",
        " 'betag': 28.42028931599769,\n",
        " 'gammaf': 2.2763988833657285,\n",
        " 'gammag': 1.0150372260598535}"
       ]
      }
     ],
     "prompt_number": 21
    },
    {
     "cell_type": "code",
     "collapsed": false,
     "input": [
      "best2 = best\n",
      "best2['betaf']=best2['betaf']/100\n"
     ],
     "language": "python",
     "metadata": {},
     "outputs": [],
     "prompt_number": 23
    },
    {
     "cell_type": "code",
     "collapsed": false,
     "input": [
      "solution2 = dfs.solveSemiclassically(best2,err=True)"
     ],
     "language": "python",
     "metadata": {},
     "outputs": [],
     "prompt_number": 24
    },
    {
     "cell_type": "code",
     "collapsed": false,
     "input": [
      "plt.plot(solution['fstar'])\n",
      "plt.plot(solution2['fstar'])"
     ],
     "language": "python",
     "metadata": {},
     "outputs": [
      {
       "metadata": {},
       "output_type": "pyout",
       "prompt_number": 25,
       "text": [
        "[<matplotlib.lines.Line2D at 0x4311290>]"
       ]
      },
      {
       "metadata": {},
       "output_type": "display_data",
       "png": "[encoded data removed]",
       "text": [
        "<matplotlib.figure.Figure at 0x4311810>"
       ]
      }
     ],
     "prompt_number": 25
    },
    {
     "cell_type": "code",
     "collapsed": false,
     "input": [
      "plt.plot(solution['Dstar'])\n",
      "plt.plot(solution2['Dstar'])"
     ],
     "language": "python",
     "metadata": {},
     "outputs": [
      {
       "ename": "KeyError",
       "evalue": "'Dstar'",
       "output_type": "pyerr",
       "traceback": [
        "\u001b[1;31m---------------------------------------------------------------------------\u001b[0m\n\u001b[1;31mKeyError\u001b[0m                                  Traceback (most recent call last)",
        "\u001b[1;32m<ipython-input-26-e034b8a9e9fd>\u001b[0m in \u001b[0;36m<module>\u001b[1;34m()\u001b[0m\n\u001b[0;32m      1\u001b[0m \u001b[0mplt\u001b[0m\u001b[1;33m.\u001b[0m\u001b[0mplot\u001b[0m\u001b[1;33m(\u001b[0m\u001b[0msolution\u001b[0m\u001b[1;33m[\u001b[0m\u001b[1;34m'Dstar'\u001b[0m\u001b[1;33m]\u001b[0m\u001b[1;33m)\u001b[0m\u001b[1;33m\u001b[0m\u001b[0m\n\u001b[1;32m----> 2\u001b[1;33m \u001b[0mplt\u001b[0m\u001b[1;33m.\u001b[0m\u001b[0mplot\u001b[0m\u001b[1;33m(\u001b[0m\u001b[0msolution2\u001b[0m\u001b[1;33m[\u001b[0m\u001b[1;34m'Dstar'\u001b[0m\u001b[1;33m]\u001b[0m\u001b[1;33m)\u001b[0m\u001b[1;33m\u001b[0m\u001b[0m\n\u001b[0m",
        "\u001b[1;31mKeyError\u001b[0m: 'Dstar'"
       ]
      },
      {
       "metadata": {},
       "output_type": "display_data",
       "png": "[encoded data removed]",
       "text": [
        "<matplotlib.figure.Figure at 0x43d5e10>"
       ]
      }
     ],
     "prompt_number": 26
    },
    {
     "cell_type": "code",
     "collapsed": false,
     "input": [
      "solution['marlike']"
     ],
     "language": "python",
     "metadata": {},
     "outputs": []
    },
    {
     "cell_type": "code",
     "collapsed": false,
     "input": [
      "solution2['marlike']"
     ],
     "language": "python",
     "metadata": {},
     "outputs": []
    },
    {
     "cell_type": "code",
     "collapsed": false,
     "input": [
      "np.sum(solution['err_sum'])"
     ],
     "language": "python",
     "metadata": {},
     "outputs": [
      {
       "metadata": {},
       "output_type": "pyout",
       "prompt_number": 29,
       "text": [
        "20932736.077082895"
       ]
      }
     ],
     "prompt_number": 29
    },
    {
     "cell_type": "code",
     "collapsed": false,
     "input": [
      "np.sum(regsolution['err_sum'])"
     ],
     "language": "python",
     "metadata": {},
     "outputs": [
      {
       "metadata": {},
       "output_type": "pyout",
       "prompt_number": 31,
       "text": [
        "20966652.742340557"
       ]
      }
     ],
     "prompt_number": 31
    },
    {
     "cell_type": "code",
     "collapsed": false,
     "input": [
      "solution['gnorm']"
     ],
     "language": "python",
     "metadata": {},
     "outputs": []
    },
    {
     "cell_type": "code",
     "collapsed": false,
     "input": [
      "regsolution['gnorm']"
     ],
     "language": "python",
     "metadata": {},
     "outputs": [
      {
       "metadata": {},
       "output_type": "pyout",
       "prompt_number": 30,
       "text": [
        "33942.658168899819"
       ]
      }
     ],
     "prompt_number": 30
    },
    {
     "cell_type": "code",
     "collapsed": false,
     "input": [
      "solution = dfs.solveSemiclassically(best,err=True)"
     ],
     "language": "python",
     "metadata": {},
     "outputs": [],
     "prompt_number": "*"
    },
    {
     "cell_type": "code",
     "collapsed": false,
     "input": [
      "best"
     ],
     "language": "python",
     "metadata": {},
     "outputs": [],
     "prompt_number": "*"
    },
    {
     "cell_type": "code",
     "collapsed": false,
     "input": [
      "solution['marlike']"
     ],
     "language": "python",
     "metadata": {},
     "outputs": [],
     "prompt_number": "*"
    },
    {
     "cell_type": "code",
     "collapsed": false,
     "input": [
      "solution['marlike']"
     ],
     "language": "python",
     "metadata": {},
     "outputs": [],
     "prompt_number": "*"
    },
    {
     "cell_type": "code",
     "collapsed": false,
     "input": [
      "dfs.dy"
     ],
     "language": "python",
     "metadata": {},
     "outputs": [
      {
       "metadata": {},
       "output_type": "pyout",
       "prompt_number": 94,
       "text": [
        "0.1"
       ]
      }
     ],
     "prompt_number": 94
    },
    {
     "cell_type": "code",
     "collapsed": false,
     "input": [
      "sqrt(.21)"
     ],
     "language": "python",
     "metadata": {},
     "outputs": [
      {
       "metadata": {},
       "output_type": "pyout",
       "prompt_number": 95,
       "text": [
        "0.45825756949558399"
       ]
      }
     ],
     "prompt_number": 95
    },
    {
     "cell_type": "code",
     "collapsed": false,
     "input": [],
     "language": "python",
     "metadata": {},
     "outputs": []
    }
   ],
   "metadata": {}
  }
 ]
}